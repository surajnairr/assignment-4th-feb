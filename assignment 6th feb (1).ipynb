{
 "cells": [
  {
   "cell_type": "code",
   "execution_count": 156,
   "id": "6561f732-0008-45aa-82ff-b6f59df79de0",
   "metadata": {},
   "outputs": [],
   "source": [
    "list1 = [1,2,3,4, [44,55,66, True], False, (34,56,78,89,34), {1,2,3,3,2,1}, {1:34, 'key2' : [55, 67, 78, 89], 4: (45,\n",
    "22, 61, 34)}, [56, 'data science'], 'Machine Learning']"
   ]
  },
  {
   "cell_type": "code",
   "execution_count": 157,
   "id": "e38f99bf-fa7a-4a12-943f-503997f73586",
   "metadata": {},
   "outputs": [],
   "source": [
    "from functools import reduce"
   ]
  },
  {
   "cell_type": "code",
   "execution_count": 172,
   "id": "574133c6-2289-4187-8a1d-a3cd40a06ed9",
   "metadata": {},
   "outputs": [],
   "source": [
    "def f1(list1):\n",
    "    l=[]\n",
    "    for i in list1:\n",
    "        if type(i) == list:\n",
    "            for j in i:\n",
    "                if type(j) == int or type(j) == float:\n",
    "                    l. append(j)\n",
    "        elif type(i) == tuple:\n",
    "            for k in i:\n",
    "                if type(k) == int or type(j) == float:\n",
    "                    l.append(k)\n",
    "        elif type(i) == set:\n",
    "            for m in i:\n",
    "                if type(m) == int or type(j) == float:\n",
    "                    l.append(m)\n",
    "        elif type(i)==dict:\n",
    "            for key,value in i.items():\n",
    "                if type(key) == int or type(value)== int:\n",
    "                    if type (value) == list:\n",
    "                        for n in value:\n",
    "                            if type(n) == int:\n",
    "                                l.append(n)\n",
    "                elif type(key) == str:\n",
    "                    if type(value) == list:\n",
    "                        for h in value :\n",
    "                            if type(h) == int:\n",
    "                                l.append(h)\n",
    "                if type(value) == tuple:\n",
    "                    for a in value:\n",
    "                        if type(a) == int:\n",
    "                            l.append(a)\n",
    "                    l.append(key)\n",
    "                \n",
    "        else:\n",
    "            if type(i) == int:\n",
    "                l.append(i)\n",
    "                \n",
    "    return l"
   ]
  },
  {
   "cell_type": "code",
   "execution_count": 173,
   "id": "11511233-84e8-463e-830f-a01d27913425",
   "metadata": {},
   "outputs": [
    {
     "data": {
      "text/plain": [
       "[1,\n",
       " 2,\n",
       " 3,\n",
       " 4,\n",
       " 44,\n",
       " 55,\n",
       " 66,\n",
       " 34,\n",
       " 56,\n",
       " 78,\n",
       " 89,\n",
       " 34,\n",
       " 1,\n",
       " 2,\n",
       " 3,\n",
       " 55,\n",
       " 67,\n",
       " 78,\n",
       " 89,\n",
       " 45,\n",
       " 22,\n",
       " 61,\n",
       " 34,\n",
       " 4,\n",
       " 56]"
      ]
     },
     "execution_count": 173,
     "metadata": {},
     "output_type": "execute_result"
    }
   ],
   "source": [
    "f1(list1)"
   ]
  },
  {
   "cell_type": "code",
   "execution_count": 174,
   "id": "c12b0ecd-9da7-4585-a562-c802a187c032",
   "metadata": {},
   "outputs": [],
   "source": [
    "final=f1(list1)\n"
   ]
  },
  {
   "cell_type": "code",
   "execution_count": 177,
   "id": "31a97353-9c87-4486-9b4a-035aa0accf42",
   "metadata": {},
   "outputs": [
    {
     "name": "stdout",
     "output_type": "stream",
     "text": [
      "4134711838987085478833841242112000\n"
     ]
    }
   ],
   "source": [
    "print(reduce(lambda x,y:x*y,final)*34)"
   ]
  },
  {
   "cell_type": "code",
   "execution_count": 33,
   "id": "721ea3df-67ca-469f-b88e-6c80c8760bea",
   "metadata": {},
   "outputs": [
    {
     "data": {
      "text/plain": [
       "[1,\n",
       " 2,\n",
       " 3,\n",
       " 4,\n",
       " [44, 55, 66, True],\n",
       " False,\n",
       " (34, 56, 78, 89, 34),\n",
       " {1, 2, 3},\n",
       " {1: 34, 'key2': [55, 67, 78, 89], 4: (45, 22, 61, 34)},\n",
       " [56, 'data science'],\n",
       " 'Machine Learning']"
      ]
     },
     "execution_count": 33,
     "metadata": {},
     "output_type": "execute_result"
    }
   ],
   "source": [
    "list1"
   ]
  },
  {
   "cell_type": "code",
   "execution_count": 112,
   "id": "293d9653-65ff-458c-8909-f2083bbcba94",
   "metadata": {},
   "outputs": [
    {
     "data": {
      "text/plain": [
       "4134711838987085478833841242112000"
      ]
     },
     "execution_count": 112,
     "metadata": {},
     "output_type": "execute_result"
    }
   ],
   "source": [
    "121609171734914278789230624768000*34"
   ]
  },
  {
   "cell_type": "code",
   "execution_count": 151,
   "id": "86d977ad-6d5d-4eca-91f4-cec66668f27e",
   "metadata": {},
   "outputs": [
    {
     "data": {
      "text/plain": [
       "1033677959746771369708460310528000"
      ]
     },
     "execution_count": 151,
     "metadata": {},
     "output_type": "execute_result"
    }
   ],
   "source": [
    "30402292933728569697307656192000*34"
   ]
  },
  {
   "cell_type": "code",
   "execution_count": 176,
   "id": "a5d341be-fa12-4795-b1bf-9b849fec7ae8",
   "metadata": {},
   "outputs": [
    {
     "name": "stdout",
     "output_type": "stream",
     "text": [
      "r$wzmg$gl$yvxlmv$z$wzgz$hxrvmgrhg.\n"
     ]
    }
   ],
   "source": [
    "inp = 'I want to become a Data Scientist.'.lower() \n",
    "o = inp                                            \n",
    "l = ' abcdefghijklmnopqrstuvwxyz$'                  \n",
    "for a in inp:                                      \n",
    "    i = l.find(a)                                  \n",
    "    if i == -1 and a != l[-1]:                      \n",
    "        pass\n",
    "    else:\n",
    "        o = o.replace(a,l[-(i+1)])                 \n",
    "print(o)"
   ]
  },
  {
   "cell_type": "code",
   "execution_count": null,
   "id": "65b32b47-2e3b-40ef-8773-13199a799e68",
   "metadata": {},
   "outputs": [],
   "source": []
  }
 ],
 "metadata": {
  "kernelspec": {
   "display_name": "Python 3 (ipykernel)",
   "language": "python",
   "name": "python3"
  },
  "language_info": {
   "codemirror_mode": {
    "name": "ipython",
    "version": 3
   },
   "file_extension": ".py",
   "mimetype": "text/x-python",
   "name": "python",
   "nbconvert_exporter": "python",
   "pygments_lexer": "ipython3",
   "version": "3.10.8"
  }
 },
 "nbformat": 4,
 "nbformat_minor": 5
}
