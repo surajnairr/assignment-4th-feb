{
 "cells": [
  {
   "cell_type": "code",
   "execution_count": 83,
   "id": "98309617-7b38-4d51-8f4e-cb5402e6755e",
   "metadata": {},
   "outputs": [],
   "source": [
    "l=[('Sachin Tendulkar', 34357), ('Ricky Ponting', 27483), ('Jack Kallis', 25534), ('Virat Kohli', 24936)]"
   ]
  },
  {
   "cell_type": "code",
   "execution_count": 86,
   "id": "6d171666-28ce-4da0-8fc2-e3095bceca4e",
   "metadata": {},
   "outputs": [],
   "source": [
    "a=lambda x: x[1]"
   ]
  },
  {
   "cell_type": "code",
   "execution_count": 87,
   "id": "9c816681-759a-4139-8baf-0d6d2f1c6a26",
   "metadata": {},
   "outputs": [
    {
     "data": {
      "text/plain": [
       "<function __main__.<lambda>(x)>"
      ]
     },
     "execution_count": 87,
     "metadata": {},
     "output_type": "execute_result"
    }
   ],
   "source": [
    "a"
   ]
  },
  {
   "cell_type": "code",
   "execution_count": 88,
   "id": "dce546b5-7324-4b5f-912a-116c54c91359",
   "metadata": {},
   "outputs": [
    {
     "data": {
      "text/plain": [
       "[('Sachin Tendulkar', 34357),\n",
       " ('Ricky Ponting', 27483),\n",
       " ('Jack Kallis', 25534),\n",
       " ('Virat Kohli', 24936)]"
      ]
     },
     "execution_count": 88,
     "metadata": {},
     "output_type": "execute_result"
    }
   ],
   "source": [
    "l"
   ]
  },
  {
   "cell_type": "code",
   "execution_count": 5,
   "id": "b8fd2b46-b58e-4a0c-bef3-16325db1bca1",
   "metadata": {},
   "outputs": [],
   "source": [
    "l1= [1, 2, 3, 4, 5, 6, 7, 8, 9, 10]"
   ]
  },
  {
   "cell_type": "code",
   "execution_count": 6,
   "id": "51728be2-9a8e-4545-a859-ac2c26d558e0",
   "metadata": {},
   "outputs": [
    {
     "data": {
      "text/plain": [
       "[1, 4, 9, 16, 25, 36, 49, 64, 81, 100]"
      ]
     },
     "execution_count": 6,
     "metadata": {},
     "output_type": "execute_result"
    }
   ],
   "source": [
    "list(map(lambda x:x**2, l1))"
   ]
  },
  {
   "cell_type": "code",
   "execution_count": 7,
   "id": "e01e482a-18d5-4594-b65c-82c6aeb089b2",
   "metadata": {},
   "outputs": [],
   "source": [
    "l2= [1, 2, 3, 4, 5, 6, 7, 8, 9, 10]"
   ]
  },
  {
   "cell_type": "code",
   "execution_count": 89,
   "id": "dae80135-1895-45b0-acf2-5d2991f86955",
   "metadata": {},
   "outputs": [
    {
     "data": {
      "text/plain": [
       "('1', '2', '3', '4', '5', '6', '7', '8', '9', '10')"
      ]
     },
     "execution_count": 89,
     "metadata": {},
     "output_type": "execute_result"
    }
   ],
   "source": [
    "tuple(map(lambda x :str(x), l2))"
   ]
  },
  {
   "cell_type": "code",
   "execution_count": 23,
   "id": "a1be17f9-3dfd-41ee-8bad-754a8ac45744",
   "metadata": {},
   "outputs": [],
   "source": [
    "from functools import reduce"
   ]
  },
  {
   "cell_type": "code",
   "execution_count": 26,
   "id": "4a43b255-9c10-4681-875c-5af192083eec",
   "metadata": {},
   "outputs": [],
   "source": [
    "l=range(1,26)"
   ]
  },
  {
   "cell_type": "code",
   "execution_count": 27,
   "id": "4b8a301b-a68b-4e8e-bd68-9d147222a0b9",
   "metadata": {},
   "outputs": [
    {
     "data": {
      "text/plain": [
       "15511210043330985984000000"
      ]
     },
     "execution_count": 27,
     "metadata": {},
     "output_type": "execute_result"
    }
   ],
   "source": [
    "reduce(lambda x,y:x*y,l)"
   ]
  },
  {
   "cell_type": "code",
   "execution_count": 33,
   "id": "81e3cb47-4264-4bbb-a05a-37471e0cb3a3",
   "metadata": {},
   "outputs": [],
   "source": [
    "l3=[2, 3, 6, 9, 27, 60, 90, 120, 55, 46]"
   ]
  },
  {
   "cell_type": "code",
   "execution_count": 35,
   "id": "d92a4008-2752-46d6-a116-b0877fb331ef",
   "metadata": {},
   "outputs": [
    {
     "data": {
      "text/plain": [
       "[2, 3, 6, 9, 27, 60, 90, 120, 46]"
      ]
     },
     "execution_count": 35,
     "metadata": {},
     "output_type": "execute_result"
    }
   ],
   "source": [
    "list(filter(lambda x: x%2== 0 or x%3==0 , l3))"
   ]
  },
  {
   "cell_type": "code",
   "execution_count": 36,
   "id": "1640c104-0672-4d88-8b3e-030db126a641",
   "metadata": {},
   "outputs": [],
   "source": [
    "l4 = ['python', 'php', 'aba', 'radar', 'level']"
   ]
  },
  {
   "cell_type": "code",
   "execution_count": 45,
   "id": "081cb5ce-4e3e-4824-a71b-58ea8cbea3b5",
   "metadata": {},
   "outputs": [
    {
     "data": {
      "text/plain": [
       "['php', 'aba', 'radar', 'level']"
      ]
     },
     "execution_count": 45,
     "metadata": {},
     "output_type": "execute_result"
    }
   ],
   "source": [
    "list(filter(lambda x:x[::-1]==x, l4))"
   ]
  },
  {
   "cell_type": "code",
   "execution_count": null,
   "id": "5fcc78ad-9f5c-4b08-a34d-bc166da8af21",
   "metadata": {},
   "outputs": [],
   "source": []
  }
 ],
 "metadata": {
  "kernelspec": {
   "display_name": "Python 3 (ipykernel)",
   "language": "python",
   "name": "python3"
  },
  "language_info": {
   "codemirror_mode": {
    "name": "ipython",
    "version": 3
   },
   "file_extension": ".py",
   "mimetype": "text/x-python",
   "name": "python",
   "nbconvert_exporter": "python",
   "pygments_lexer": "ipython3",
   "version": "3.10.8"
  }
 },
 "nbformat": 4,
 "nbformat_minor": 5
}
