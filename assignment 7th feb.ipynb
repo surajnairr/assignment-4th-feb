{
 "cells": [
  {
   "cell_type": "code",
   "execution_count": 19,
   "id": "f296d2fa-f398-43b1-bc6b-f035a00a74a8",
   "metadata": {},
   "outputs": [],
   "source": [
    "def password():\n",
    "    uppercase,lowercase,digit,special_case=0,0,0,0\n",
    "    n = input(\"enter a password\")\n",
    "    for i in n:\n",
    "        if i.isupper()==True:\n",
    "            uppercase+=1\n",
    "        elif i.islower()==False:\n",
    "            lowercase+=1\n",
    "        if i.isdigit()==True:\n",
    "            digit+=1\n",
    "        elif i.isalnum()==False:\n",
    "            special_case+=3\n",
    "    if uppercase>=1 and lowercase>=1 and digit>=1 and special_case>=3 and len(n)>=10:\n",
    "        print(\"valid password\")\n",
    "    else:\n",
    "        print(\"invalid password\")"
   ]
  },
  {
   "cell_type": "code",
   "execution_count": 21,
   "id": "e0c77a4c-0ff1-4503-a335-860b1a39ba9a",
   "metadata": {},
   "outputs": [
    {
     "name": "stdin",
     "output_type": "stream",
     "text": [
      "enter a password PWskillS123#3\n"
     ]
    },
    {
     "name": "stdout",
     "output_type": "stream",
     "text": [
      "valid password\n"
     ]
    }
   ],
   "source": [
    "password()"
   ]
  },
  {
   "cell_type": "code",
   "execution_count": 8,
   "id": "b346e280-427e-4ec3-987e-ce17529655f4",
   "metadata": {},
   "outputs": [],
   "source": [
    "a = lambda s,c : s[0]==c"
   ]
  },
  {
   "cell_type": "code",
   "execution_count": 10,
   "id": "101786fb-2440-4ac7-a786-919c51f2678f",
   "metadata": {},
   "outputs": [],
   "source": [
    "string = \"Center\""
   ]
  },
  {
   "cell_type": "code",
   "execution_count": 11,
   "id": "3c15a436-bce1-479f-b412-9f79c485cac9",
   "metadata": {},
   "outputs": [
    {
     "name": "stdout",
     "output_type": "stream",
     "text": [
      "False\n"
     ]
    }
   ],
   "source": [
    "print(a(string,'c'))"
   ]
  },
  {
   "cell_type": "code",
   "execution_count": 13,
   "id": "a6245d44-5dea-4a24-abb0-d6685f259160",
   "metadata": {},
   "outputs": [],
   "source": [
    "b = lambda string : string.isnumeric()"
   ]
  },
  {
   "cell_type": "code",
   "execution_count": 14,
   "id": "f292fa56-b19f-4b7e-898f-1c553b349b07",
   "metadata": {},
   "outputs": [
    {
     "name": "stdout",
     "output_type": "stream",
     "text": [
      "False\n"
     ]
    }
   ],
   "source": [
    "print(b(string))"
   ]
  },
  {
   "cell_type": "code",
   "execution_count": 35,
   "id": "fd45258a-4b6d-4541-821b-3139ff05b89d",
   "metadata": {},
   "outputs": [],
   "source": [
    "c = [(\"mango\",99),(\"orange\",80), (\"grapes\", 1000)]"
   ]
  },
  {
   "cell_type": "code",
   "execution_count": 36,
   "id": "54dedfce-69a7-41b9-b97b-c36c256e5e45",
   "metadata": {},
   "outputs": [
    {
     "ename": "SyntaxError",
     "evalue": "positional argument follows keyword argument (4104222617.py, line 1)",
     "output_type": "error",
     "traceback": [
      "\u001b[0;36m  Cell \u001b[0;32mIn[36], line 1\u001b[0;36m\u001b[0m\n\u001b[0;31m    list(filter( lambda x: sorted(key = lambda x:x[1],c)))\u001b[0m\n\u001b[0m                                                       ^\u001b[0m\n\u001b[0;31mSyntaxError\u001b[0m\u001b[0;31m:\u001b[0m positional argument follows keyword argument\n"
     ]
    }
   ],
   "source": [
    "list(filter( lambda x: sorted(key = lambda x:x[1],c)))"
   ]
  },
  {
   "cell_type": "code",
   "execution_count": 26,
   "id": "609087c7-d8a2-4627-bef2-adf2ff2b9cd4",
   "metadata": {},
   "outputs": [],
   "source": [
    "sort = lambda t:sorted(t,key = lambda x:x[1])"
   ]
  },
  {
   "cell_type": "code",
   "execution_count": 27,
   "id": "353b1513-425e-4986-bf38-f480f82d1165",
   "metadata": {},
   "outputs": [
    {
     "name": "stdout",
     "output_type": "stream",
     "text": [
      "[('orange', 80), ('mango', 99), ('grapes', 1000)]\n"
     ]
    }
   ],
   "source": [
    "a = [(\"mango\",99),(\"orange\",80), (\"grapes\", 1000)]\n",
    "print(sort(a))"
   ]
  },
  {
   "cell_type": "code",
   "execution_count": 1,
   "id": "73dcb328-659d-4dfe-856b-3bd221ab8d97",
   "metadata": {},
   "outputs": [],
   "source": [
    "l = range(1,11)"
   ]
  },
  {
   "cell_type": "code",
   "execution_count": 2,
   "id": "5815905f-8b62-47b1-9d32-47aa9c4bd073",
   "metadata": {},
   "outputs": [],
   "source": [
    "from functools import reduce"
   ]
  },
  {
   "cell_type": "code",
   "execution_count": 5,
   "id": "7c067e0f-d257-4f9d-bc15-283e5c13b05e",
   "metadata": {},
   "outputs": [
    {
     "ename": "TypeError",
     "evalue": "<lambda>() takes 1 positional argument but 2 were given",
     "output_type": "error",
     "traceback": [
      "\u001b[0;31m---------------------------------------------------------------------------\u001b[0m",
      "\u001b[0;31mTypeError\u001b[0m                                 Traceback (most recent call last)",
      "Cell \u001b[0;32mIn[5], line 1\u001b[0m\n\u001b[0;32m----> 1\u001b[0m \u001b[43mreduce\u001b[49m\u001b[43m(\u001b[49m\u001b[38;5;28;43;01mlambda\u001b[39;49;00m\u001b[43m \u001b[49m\u001b[43mx\u001b[49m\u001b[43m:\u001b[49m\u001b[43mx\u001b[49m\u001b[38;5;241;43m*\u001b[39;49m\u001b[38;5;241;43m*\u001b[39;49m\u001b[38;5;241;43m2\u001b[39;49m\u001b[43m,\u001b[49m\u001b[43ml\u001b[49m\u001b[43m)\u001b[49m\n",
      "\u001b[0;31mTypeError\u001b[0m: <lambda>() takes 1 positional argument but 2 were given"
     ]
    }
   ],
   "source": [
    "reduce(lambda x:x**2,l)"
   ]
  },
  {
   "cell_type": "code",
   "execution_count": 9,
   "id": "2ad13e1a-1fb8-404b-80b8-7f6feaf72895",
   "metadata": {},
   "outputs": [],
   "source": [
    "square = [i**2 for i in range(1,11)]"
   ]
  },
  {
   "cell_type": "code",
   "execution_count": 10,
   "id": "5ad6832d-8cff-407e-ac77-a03dd130ccf8",
   "metadata": {},
   "outputs": [
    {
     "name": "stdout",
     "output_type": "stream",
     "text": [
      "[1, 4, 9, 16, 25, 36, 49, 64, 81, 100]\n"
     ]
    }
   ],
   "source": [
    "print(square)"
   ]
  },
  {
   "cell_type": "code",
   "execution_count": 11,
   "id": "2a98d918-441f-48be-a92a-70136900b203",
   "metadata": {},
   "outputs": [],
   "source": [
    "cuberoot = [i**(1/3) for i in range(1,11)]"
   ]
  },
  {
   "cell_type": "code",
   "execution_count": 12,
   "id": "2a4c3074-7c46-44b2-9965-8cb7003d5a92",
   "metadata": {},
   "outputs": [
    {
     "name": "stdout",
     "output_type": "stream",
     "text": [
      "[1.0, 1.2599210498948732, 1.4422495703074083, 1.5874010519681994, 1.7099759466766968, 1.8171205928321397, 1.912931182772389, 2.0, 2.080083823051904, 2.154434690031884]\n"
     ]
    }
   ],
   "source": [
    "print(cuberoot)"
   ]
  },
  {
   "cell_type": "code",
   "execution_count": 13,
   "id": "e06ac358-a692-4766-a0e2-4e0589dfb74a",
   "metadata": {},
   "outputs": [
    {
     "data": {
      "text/plain": [
       "[2, 4, 6, 8, 10]"
      ]
     },
     "execution_count": 13,
     "metadata": {},
     "output_type": "execute_result"
    }
   ],
   "source": [
    "list(filter(lambda x:x%2==0,l))"
   ]
  },
  {
   "cell_type": "code",
   "execution_count": 16,
   "id": "b0619331-b40e-4123-bd7d-aecad4b58227",
   "metadata": {},
   "outputs": [
    {
     "data": {
      "text/plain": [
       "[1, 3, 5, 7, 9]"
      ]
     },
     "execution_count": 16,
     "metadata": {},
     "output_type": "execute_result"
    }
   ],
   "source": [
    "list(filter(lambda x:x%2!= 0,l))"
   ]
  },
  {
   "cell_type": "code",
   "execution_count": 17,
   "id": "6c8c0a80-e7b6-48c1-ad76-c44d29c886a8",
   "metadata": {},
   "outputs": [],
   "source": [
    "l1=[1,2,3,4,5,6,-1,-2,-3,-4,-5,0]"
   ]
  },
  {
   "cell_type": "code",
   "execution_count": 18,
   "id": "a4993616-09fd-4fdb-b276-ed391cd58b68",
   "metadata": {},
   "outputs": [
    {
     "data": {
      "text/plain": [
       "[-1, -2, -3, -4, -5]"
      ]
     },
     "execution_count": 18,
     "metadata": {},
     "output_type": "execute_result"
    }
   ],
   "source": [
    "list(filter(lambda x: x<0,l1))"
   ]
  },
  {
   "cell_type": "code",
   "execution_count": null,
   "id": "a915d89a-defe-401c-9d01-c4e80998fe4e",
   "metadata": {},
   "outputs": [],
   "source": []
  }
 ],
 "metadata": {
  "kernelspec": {
   "display_name": "Python 3 (ipykernel)",
   "language": "python",
   "name": "python3"
  },
  "language_info": {
   "codemirror_mode": {
    "name": "ipython",
    "version": 3
   },
   "file_extension": ".py",
   "mimetype": "text/x-python",
   "name": "python",
   "nbconvert_exporter": "python",
   "pygments_lexer": "ipython3",
   "version": "3.10.8"
  }
 },
 "nbformat": 4,
 "nbformat_minor": 5
}
